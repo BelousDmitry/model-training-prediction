{
 "cells": [
  {
   "cell_type": "code",
   "execution_count": 1,
   "id": "06b194aa-0bfe-4a52-989d-929b180406f2",
   "metadata": {},
   "outputs": [],
   "source": [
    "import pandas as pd\n",
    "import numpy as np\n",
    "from sklearn.utils import shuffle\n",
    "from sklearn.ensemble import RandomForestClassifier\n",
    "from sklearn.model_selection import train_test_split\n",
    "from sklearn.metrics import confusion_matrix\n",
    "from sklearn.metrics import classification_report\n",
    "from sklearn.metrics import confusion_matrix, classification_report, accuracy_score, f1_score"
   ]
  },
  {
   "cell_type": "code",
   "execution_count": 2,
   "id": "1c74f6ae-893d-4a4c-8786-e29f8eed91d1",
   "metadata": {},
   "outputs": [],
   "source": [
    "df = pd.read_csv('Bank_Personal_Loan_Modelling.csv')"
   ]
  },
  {
   "cell_type": "code",
   "execution_count": 3,
   "id": "8fd40b6a-49ef-4733-a460-10645d75338f",
   "metadata": {},
   "outputs": [],
   "source": [
    "ran_forest_classifier = RandomForestClassifier(random_state=42)"
   ]
  },
  {
   "cell_type": "code",
   "execution_count": 4,
   "id": "db323395-e4d2-4cf9-be49-187ef8215565",
   "metadata": {},
   "outputs": [],
   "source": [
    "model_features = df.columns.drop([\"ID\",\"PersonalLoan\"])\n",
    "model_target = \"PersonalLoan\""
   ]
  },
  {
   "cell_type": "code",
   "execution_count": 5,
   "id": "bb9ac1ac-0cd6-4b32-8715-012ead129400",
   "metadata": {},
   "outputs": [],
   "source": [
    "train_data, test_data = train_test_split(df, test_size=0.2, shuffle=True, random_state=42)"
   ]
  },
  {
   "cell_type": "code",
   "execution_count": 6,
   "id": "7a265eb4-b36c-47c9-a970-5c9ccfe5849d",
   "metadata": {},
   "outputs": [
    {
     "name": "stdout",
     "output_type": "stream",
     "text": [
      "Class 0 samples in the training set: 3625\n",
      "Class 1 samples in the training set: 375\n"
     ]
    }
   ],
   "source": [
    "print('Class 0 samples in the training set:', sum(train_data[model_target] == 0))\n",
    "print('Class 1 samples in the training set:', sum(train_data[model_target] == 1))"
   ]
  },
  {
   "cell_type": "code",
   "execution_count": 7,
   "id": "b59f3042-be70-41eb-8be6-65900edc177c",
   "metadata": {},
   "outputs": [
    {
     "name": "stdout",
     "output_type": "stream",
     "text": [
      "Class 0 samples in the training set: 3625\n",
      "Class 1 samples in the training set: 3625\n"
     ]
    }
   ],
   "source": [
    "td_target_0 = train_data[train_data[model_target] == 0]\n",
    "td_target_1 = train_data[train_data[model_target] == 1]\n",
    "upsampled_td_target_1 = td_target_1.sample(n=len(td_target_0), replace=True, random_state=42)\n",
    "train_data = pd.concat([td_target_0, upsampled_td_target_1])\n",
    "train_data = shuffle(train_data)\n",
    "print('Class 0 samples in the training set:', sum(train_data[model_target] == 0))\n",
    "print('Class 1 samples in the training set:', sum(train_data[model_target] == 1))"
   ]
  },
  {
   "cell_type": "code",
   "execution_count": 8,
   "id": "7a64960c-6939-4a53-979d-a6ca96dcf115",
   "metadata": {},
   "outputs": [],
   "source": [
    "X_train = train_data[model_features]\n",
    "y_train = train_data[model_target]"
   ]
  },
  {
   "cell_type": "code",
   "execution_count": 9,
   "id": "d2428090-a28f-4067-9153-a4e898c17b52",
   "metadata": {},
   "outputs": [],
   "source": [
    "X_test = test_data[model_features]\n",
    "y_test = test_data[model_target]"
   ]
  },
  {
   "cell_type": "code",
   "execution_count": 10,
   "id": "afb8feff-49e8-4b11-93a5-659e914c3642",
   "metadata": {},
   "outputs": [
    {
     "data": {
      "text/plain": [
       "RandomForestClassifier(random_state=42)"
      ]
     },
     "execution_count": 10,
     "metadata": {},
     "output_type": "execute_result"
    }
   ],
   "source": [
    "ran_forest_classifier.fit(X_train, y_train)"
   ]
  },
  {
   "cell_type": "code",
   "execution_count": 11,
   "id": "29888869-5eaf-4d77-821e-504b897f3482",
   "metadata": {},
   "outputs": [],
   "source": [
    "test_predictions = ran_forest_classifier.predict(X_test)"
   ]
  },
  {
   "cell_type": "code",
   "execution_count": 12,
   "id": "a67ce034-f947-405a-a05f-df38acb0ad9d",
   "metadata": {},
   "outputs": [
    {
     "name": "stdout",
     "output_type": "stream",
     "text": [
      "Model performance on the test set:\n",
      "[[892   3]\n",
      " [  5 100]]\n",
      "              precision    recall  f1-score   support\n",
      "\n",
      "           0       0.99      1.00      1.00       895\n",
      "           1       0.97      0.95      0.96       105\n",
      "\n",
      "    accuracy                           0.99      1000\n",
      "   macro avg       0.98      0.97      0.98      1000\n",
      "weighted avg       0.99      0.99      0.99      1000\n",
      "\n",
      "Test accuracy: 0.992\n"
     ]
    }
   ],
   "source": [
    "print('Model performance on the test set:')\n",
    "print(confusion_matrix(y_test, test_predictions))\n",
    "print(classification_report(y_test, test_predictions))\n",
    "print(\"Test accuracy:\", accuracy_score(y_test, test_predictions))"
   ]
  },
  {
   "cell_type": "code",
   "execution_count": 13,
   "id": "3658cd7a-ba5c-46e3-b3be-74b5841b0000",
   "metadata": {},
   "outputs": [],
   "source": [
    "import pickle\n",
    "file_pickle = open('model.pkl', 'wb')\n",
    "pickle.dump(ran_forest_classifier, file_pickle)\n",
    "file_pickle.close()"
   ]
  },
  {
   "cell_type": "code",
   "execution_count": 14,
   "id": "de18379d-0d5f-419e-a720-3a6d446bb388",
   "metadata": {},
   "outputs": [],
   "source": [
    "new_model_file = open('model.pkl', 'rb')\n",
    "new_model=pickle.load(new_model_file)"
   ]
  },
  {
   "cell_type": "code",
   "execution_count": 15,
   "id": "99aeb6f5-1644-4cfa-99b2-585541835060",
   "metadata": {},
   "outputs": [],
   "source": [
    "label = {0: 'negative', 1: 'positive'}\n",
    "customer_data = df[model_features].head(1)"
   ]
  },
  {
   "cell_type": "code",
   "execution_count": 16,
   "id": "3bf16d4b-f3d4-448b-ad6d-f101d4159518",
   "metadata": {},
   "outputs": [
    {
     "name": "stdout",
     "output_type": "stream",
     "text": [
      "Prediction: negative\n"
     ]
    }
   ],
   "source": [
    "print('Prediction: %s' % (label[new_model.predict(customer_data)[0]])) "
   ]
  },
  {
   "cell_type": "code",
   "execution_count": 17,
   "id": "7d535de1-00e8-4281-aded-16e42a2f3233",
   "metadata": {},
   "outputs": [
    {
     "name": "stdout",
     "output_type": "stream",
     "text": [
      "Probability: 100.00%\n"
     ]
    }
   ],
   "source": [
    "print('Probability: %.2f%%' % np.max(new_model.predict_proba(customer_data) * 100))"
   ]
  },
  {
   "cell_type": "code",
   "execution_count": 18,
   "id": "bf2fdc1d-90ea-4ab9-8b43-5f8cbf314ba5",
   "metadata": {},
   "outputs": [
    {
     "data": {
      "text/html": [
       "<div>\n",
       "<style scoped>\n",
       "    .dataframe tbody tr th:only-of-type {\n",
       "        vertical-align: middle;\n",
       "    }\n",
       "\n",
       "    .dataframe tbody tr th {\n",
       "        vertical-align: top;\n",
       "    }\n",
       "\n",
       "    .dataframe thead th {\n",
       "        text-align: right;\n",
       "    }\n",
       "</style>\n",
       "<table border=\"1\" class=\"dataframe\">\n",
       "  <thead>\n",
       "    <tr style=\"text-align: right;\">\n",
       "      <th></th>\n",
       "      <th>Age</th>\n",
       "      <th>Experience</th>\n",
       "      <th>Income</th>\n",
       "      <th>ZIPCode</th>\n",
       "      <th>Family</th>\n",
       "      <th>CCAvg</th>\n",
       "      <th>Education</th>\n",
       "      <th>Mortgage</th>\n",
       "      <th>SecuritiesAccount</th>\n",
       "      <th>CDAccount</th>\n",
       "      <th>Online</th>\n",
       "      <th>CreditCard</th>\n",
       "    </tr>\n",
       "  </thead>\n",
       "  <tbody>\n",
       "    <tr>\n",
       "      <th>9</th>\n",
       "      <td>34</td>\n",
       "      <td>9</td>\n",
       "      <td>180</td>\n",
       "      <td>93023</td>\n",
       "      <td>1</td>\n",
       "      <td>8.9</td>\n",
       "      <td>3</td>\n",
       "      <td>0</td>\n",
       "      <td>0</td>\n",
       "      <td>0</td>\n",
       "      <td>0</td>\n",
       "      <td>0</td>\n",
       "    </tr>\n",
       "  </tbody>\n",
       "</table>\n",
       "</div>"
      ],
      "text/plain": [
       "   Age  Experience  Income  ZIPCode  Family  CCAvg  Education  Mortgage  \\\n",
       "9   34           9     180    93023       1    8.9          3         0   \n",
       "\n",
       "   SecuritiesAccount  CDAccount  Online  CreditCard  \n",
       "9                  0          0       0           0  "
      ]
     },
     "execution_count": 18,
     "metadata": {},
     "output_type": "execute_result"
    }
   ],
   "source": [
    "customer_data = df[model_features].head(10)\n",
    "customer_data.loc[9:]"
   ]
  },
  {
   "cell_type": "code",
   "execution_count": 19,
   "id": "242f5ad0-4710-4388-838e-cf944529355c",
   "metadata": {},
   "outputs": [
    {
     "data": {
      "text/html": [
       "<div>\n",
       "<style scoped>\n",
       "    .dataframe tbody tr th:only-of-type {\n",
       "        vertical-align: middle;\n",
       "    }\n",
       "\n",
       "    .dataframe tbody tr th {\n",
       "        vertical-align: top;\n",
       "    }\n",
       "\n",
       "    .dataframe thead th {\n",
       "        text-align: right;\n",
       "    }\n",
       "</style>\n",
       "<table border=\"1\" class=\"dataframe\">\n",
       "  <thead>\n",
       "    <tr style=\"text-align: right;\">\n",
       "      <th></th>\n",
       "      <th>Age</th>\n",
       "      <th>Experience</th>\n",
       "      <th>Income</th>\n",
       "      <th>ZIPCode</th>\n",
       "      <th>Family</th>\n",
       "      <th>CCAvg</th>\n",
       "      <th>Education</th>\n",
       "      <th>Mortgage</th>\n",
       "      <th>SecuritiesAccount</th>\n",
       "      <th>CDAccount</th>\n",
       "      <th>Online</th>\n",
       "      <th>CreditCard</th>\n",
       "    </tr>\n",
       "  </thead>\n",
       "  <tbody>\n",
       "    <tr>\n",
       "      <th>9</th>\n",
       "      <td>34</td>\n",
       "      <td>9</td>\n",
       "      <td>180</td>\n",
       "      <td>93023</td>\n",
       "      <td>1</td>\n",
       "      <td>8.9</td>\n",
       "      <td>3</td>\n",
       "      <td>0</td>\n",
       "      <td>0</td>\n",
       "      <td>0</td>\n",
       "      <td>0</td>\n",
       "      <td>0</td>\n",
       "    </tr>\n",
       "  </tbody>\n",
       "</table>\n",
       "</div>"
      ],
      "text/plain": [
       "   Age  Experience  Income  ZIPCode  Family  CCAvg  Education  Mortgage  \\\n",
       "9   34           9     180    93023       1    8.9          3         0   \n",
       "\n",
       "   SecuritiesAccount  CDAccount  Online  CreditCard  \n",
       "9                  0          0       0           0  "
      ]
     },
     "execution_count": 19,
     "metadata": {},
     "output_type": "execute_result"
    }
   ],
   "source": [
    "customer_data = customer_data.loc[9:]\n",
    "customer_data"
   ]
  },
  {
   "cell_type": "code",
   "execution_count": 20,
   "id": "c349df32-73bd-491f-824b-187905b075f0",
   "metadata": {},
   "outputs": [
    {
     "name": "stdout",
     "output_type": "stream",
     "text": [
      "Prediction: positive\n",
      "Probability: 100.00%\n"
     ]
    }
   ],
   "source": [
    "print('Prediction: %s' % (label[new_model.predict(customer_data)[0]])) \n",
    "print('Probability: %.2f%%' % np.max(new_model.predict_proba(customer_data) * 100))"
   ]
  },
  {
   "cell_type": "code",
   "execution_count": 21,
   "id": "a7ada4a7-33a2-4ea7-bfe6-da0fc69a585b",
   "metadata": {},
   "outputs": [],
   "source": [
    "customer_data['Income'] = 100\n",
    "customer_data['CCAvg'] = 7"
   ]
  },
  {
   "cell_type": "code",
   "execution_count": 22,
   "id": "2de0e23a-3b39-40c5-9de9-1e12d4d1a758",
   "metadata": {},
   "outputs": [
    {
     "name": "stdout",
     "output_type": "stream",
     "text": [
      "Prediction: positive\n",
      "Probability: 55.00%\n"
     ]
    }
   ],
   "source": [
    "print('Prediction: %s' % (label[new_model.predict(customer_data)[0]])) \n",
    "print('Probability: %.2f%%' % np.max(new_model.predict_proba(customer_data) * 100))"
   ]
  },
  {
   "cell_type": "code",
   "execution_count": null,
   "id": "09582f8d-c9b5-4c3d-8760-69cb5874d312",
   "metadata": {},
   "outputs": [],
   "source": []
  }
 ],
 "metadata": {
  "kernelspec": {
   "display_name": "test_env:Python",
   "language": "python",
   "name": "conda-env-test_env-py"
  },
  "language_info": {
   "codemirror_mode": {
    "name": "ipython",
    "version": 3
   },
   "file_extension": ".py",
   "mimetype": "text/x-python",
   "name": "python",
   "nbconvert_exporter": "python",
   "pygments_lexer": "ipython3",
   "version": "3.9.10"
  }
 },
 "nbformat": 4,
 "nbformat_minor": 5
}
